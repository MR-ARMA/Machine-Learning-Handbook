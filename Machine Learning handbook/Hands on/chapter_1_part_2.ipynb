{
 "cells": [
  {
   "cell_type": "markdown",
   "id": "fb2f9436-e773-4274-a83a-10c233b0b197",
   "metadata": {},
   "source": [
    "# Chapter 1: Introduction to Probabilistic Modeling part 2📊🎲"
   ]
  },
  {
   "cell_type": "markdown",
   "id": "d7907ab1-0595-417c-913d-03e73f40376e",
   "metadata": {},
   "source": [
    "# <center> ![picture](pictures/title.jpg)"
   ]
  },
  {
   "cell_type": "markdown",
   "id": "89f67017-1ad4-4394-a381-3b0072fac7fc",
   "metadata": {},
   "source": [
    "# Teaching Multivariate Random Variables in Machine Learning"
   ]
  },
  {
   "cell_type": "markdown",
   "id": "1a2c2cd4-dc0e-4f3a-84d1-04f90948b6fb",
   "metadata": {},
   "source": [
    "Machine learning is a complex field that involves a wide range of concepts. One of the fundamental concepts is the understanding of multivariate random variables. This guide aims to provide a comprehensive understanding of this concept, using a Jupyter notebook format for easy reading and learning."
   ]
  },
  {
   "cell_type": "markdown",
   "id": "fe1de8ce-0151-4b1d-a99e-7b68f9b184fa",
   "metadata": {},
   "source": [
    "## Multivariate Random Variables"
   ]
  },
  {
   "cell_type": "markdown",
   "id": "d72d830a-e63a-4e04-9701-cf7f415d910b",
   "metadata": {},
   "source": [
    "In the realm of machine learning, we often deal with datasets that have multiple variables. These are known as multivariate random variables. The concepts of outcome spaces and probabilities extend to multivariate random variables, and this section aims to delve into these new notions, including joint distributions, conditional distributions, marginals, and dependence between variables.\n",
    "\n",
    "Let's start with a simple example using two discrete random variables, X and Y. We can define a joint probability mass function `p` that maps from the Cartesian product of X and Y to the interval [0, 1]. The joint probability mass function is defined as follows:"
   ]
  },
  {
   "cell_type": "code",
   "execution_count": 1,
   "id": "fe199686-6a57-47e4-9a40-d14eb804fda3",
   "metadata": {},
   "outputs": [],
   "source": [
    "def joint_probability_mass_function(p, x, y):\n",
    "    return p(x, y)\n",
    "    "
   ]
  },
  {
   "cell_type": "markdown",
   "id": "27f6b704-9c09-4b8c-818e-b4c22c35bae0",
   "metadata": {},
   "source": [
    "Here, `p` is the joint probability mass function, `x` and `y` are the outcomes of random variables `X` and `Y` respectively. The function returns the joint probability of x and y."
   ]
  },
  {
   "cell_type": "markdown",
   "id": "b16559ce-f399-4e36-8df3-f7f30d8f2464",
   "metadata": {},
   "source": [
    "We can also define the corresponding joint probability distribution `P` as follows:"
   ]
  },
  {
   "cell_type": "code",
   "execution_count": 2,
   "id": "a1a3de73-e660-4208-95f3-9610a7ca9aef",
   "metadata": {},
   "outputs": [],
   "source": [
    "def joint_probability_distribution(P, x, y):\n",
    "    return P(X = x, Y = y)\n"
   ]
  },
  {
   "cell_type": "markdown",
   "id": "05783a36-ea7e-4c7c-a83f-fe3deed148fa",
   "metadata": {},
   "source": [
    "This function returns the joint probability of `x` and `y` using the joint probability distribution `P`.\n",
    "\n",
    "Further, we can define a multivariate random variable $Z = (X, Y)$ which is a two-dimensional random variable. The interaction between the two random variables can be observed by looking at the joint probabilities.\n",
    "\n",
    "In general, we can consider a d-dimensional random variable $X = (X_1, X_2, . . . , X_d)$ with vector-valued outcomes $x = (x_1, x_2, . . . , x_d)$, such that each $x_i$ is chosen from some $X_i$.\n",
    "\n",
    "We can define the marginal distribution for a subset of $X = (X_1, X_2, . . . , X_d)$ by summing or integrating over the remaining variables."
   ]
  },
  {
   "cell_type": "markdown",
   "id": "92d47220-7b77-41ae-8dee-87f0a9c5aeac",
   "metadata": {},
   "source": [
    "## Conditional Distributions"
   ]
  },
  {
   "cell_type": "markdown",
   "id": "30d40b0d-a796-4878-90da-c307843d4b45",
   "metadata": {},
   "source": [
    "Conditional probabilities define probabilities of a random variable X, given information about the value of another random variable Y. More formally, the conditional probability $p(y|x)$ for two random variables X and Y is defined as:\n"
   ]
  },
  {
   "cell_type": "markdown",
   "id": "95481c13-5a28-4afc-b0a4-c86e9e0ac2d0",
   "metadata": {},
   "source": [
    "$$p(y|x) = \\frac{p(x, y)}{p(x)}$$"
   ]
  },
  {
   "cell_type": "markdown",
   "id": "38d82b46-c8ee-42e7-aa0a-759e574978bc",
   "metadata": {},
   "source": [
    "\n",
    "We can also calculate the posterior probability of an event A, given some observation x, as follows:"
   ]
  },
  {
   "cell_type": "markdown",
   "id": "5d990820-0249-4a31-bfd7-aa5423b7360a",
   "metadata": {},
   "source": [
    "$$\n",
    "p(Y ∈ A|X = x) = \n",
    "\\begin{cases} \n",
    "\\sum_{y∈A}{p(y|x)} \\ \\ \\ Y : discrete \\\\\n",
    "\\int_{A} p(y|x)dy \\ \\ \\ Y : continuous\n",
    "\n",
    "\\end{cases}\n",
    "$$"
   ]
  },
  {
   "cell_type": "markdown",
   "id": "34699cb8-8e75-4611-bb0a-6a73ffb49248",
   "metadata": {},
   "source": [
    "## Independence of Random Variables"
   ]
  },
  {
   "cell_type": "markdown",
   "id": "723cef7f-9f35-4db6-be4e-f523c0ec3b68",
   "metadata": {},
   "source": [
    "Two random variables are independent if their joint probability distribution factors into the product of the marginals:"
   ]
  },
  {
   "cell_type": "code",
   "execution_count": 3,
   "id": "0801ea0c-5d1b-4d5f-80bd-b387987bc462",
   "metadata": {},
   "outputs": [],
   "source": [
    "def is_independent(p, x, y):\n",
    "    return p(x, y) == p(x) * p(y)\n"
   ]
  },
  {
   "cell_type": "markdown",
   "id": "39dac60c-8bda-43e2-b368-b269050d8fd5",
   "metadata": {},
   "source": [
    "This function returns True if `x` and `y` are independent, and False otherwise.\n",
    "\n",
    "The notion of independence can be generalized to more than two random variables. More generally, d random variables are said to be mutually independent or jointly independent if a joint probability distribution of any subset of variables can be expressed as a product of marginal probability distributions of its components."
   ]
  },
  {
   "cell_type": "markdown",
   "id": "85e5b433-47fe-47ea-90b2-4f776afc0287",
   "metadata": {},
   "source": [
    "## Expectations and Moments"
   ]
  },
  {
   "cell_type": "markdown",
   "id": "c1e704bd-aeaa-45eb-accd-c929bac8efbf",
   "metadata": {},
   "source": [
    "The expected value, or mean, of a random variable X is the average of repeatedly sampled x, in the limit of sampling. It is not necessarily the value we expect to see most frequently—that is called the mode. More precisely, given the pmf or pdf p for outcome space X , the expectation of X is:"
   ]
  },
  {
   "cell_type": "code",
   "execution_count": 4,
   "id": "5c36561a-342f-452d-94cb-6605f6e68eb5",
   "metadata": {
    "tags": []
   },
   "outputs": [],
   "source": [
    "def expected_value(p, X):\n",
    "    return sum([x * p(x) for x in X])\n"
   ]
  },
  {
   "cell_type": "markdown",
   "id": "66979ed0-21cb-4399-bc40-5c6009564b20",
   "metadata": {},
   "source": [
    "## Variance and Covariance"
   ]
  },
  {
   "cell_type": "markdown",
   "id": "c384ac41-16f5-4cd7-bfac-f231294c5bc7",
   "metadata": {},
   "source": [
    "Variance and covariance are two important measures of the spread and the correlation between two random variables respectively. Variance measures the dispersion of a random variable around its mean, while covariance measures the joint variability of two random variables.\n",
    "\n",
    "The variance of a random variable X is defined as:"
   ]
  },
  {
   "cell_type": "code",
   "execution_count": 5,
   "id": "aeebaecd-b9e8-4b79-8c70-314a5192cc9d",
   "metadata": {},
   "outputs": [],
   "source": [
    "def variance(p, X):\n",
    "    E_X = expected_value(p, X)\n",
    "    return sum([(x - E_X)**2 * p(x) for x in X])\n"
   ]
  },
  {
   "cell_type": "markdown",
   "id": "4fb4fdfb-a2d0-40b8-84fb-9be1935036fc",
   "metadata": {},
   "source": [
    "This function returns the variance of the random variable X.\n",
    "\n",
    "Covariance, on the other hand, is a bit more complex as it involves two random variables. The covariance of two random variables X and Y is defined as:"
   ]
  },
  {
   "cell_type": "code",
   "execution_count": 6,
   "id": "f550667c-c403-4a0e-872f-c557de537e2e",
   "metadata": {},
   "outputs": [],
   "source": [
    "def covariance(p, X, Y):\n",
    "    E_X = expected_value(p, X)\n",
    "    E_Y = expected_value(p, Y)\n",
    "    return sum([(x - E_X)*(y - E_Y) * p(x, y) for x, y in zip(X, Y)])\n"
   ]
  },
  {
   "cell_type": "markdown",
   "id": "892276ec-92fc-4dbd-b1db-b09cfddcece0",
   "metadata": {},
   "source": [
    "This function returns the covariance of the random variables X and Y."
   ]
  },
  {
   "cell_type": "markdown",
   "id": "f340526c-2aba-4a00-a9fb-9e5c299b09f6",
   "metadata": {},
   "source": [
    "# Conclusion"
   ]
  },
  {
   "cell_type": "markdown",
   "id": "3fae241e-10cc-483e-a312-17ec3b36551a",
   "metadata": {},
   "source": [
    "Understanding multivariate random variables, expectations, moments, variance, and covariance is crucial in the field of machine learning. These concepts provide a solid foundation for further studies in this field. By understanding these concepts, we can better analyze and interpret the behavior of machine learning models, and make more accurate predictions.\n",
    "\n",
    "In the following sections, we will delve deeper into these concepts and explore how they can be applied in various machine learning algorithms. We will also discuss the importance of these concepts in understanding the behavior of complex systems and making informed decisions.\n",
    "\n",
    "For now, let's wrap up this section by summarizing the key points:\n",
    "\n",
    "- Multivariate random variables are a collection of random variables that we are interested in.\n",
    "- The expected value or mean of a random variable is the average of repeatedly sampled x, in the limit of sampling.\n",
    "- Variance measures the dispersion of a random variable around its mean.\n",
    "- Covariance measures the joint variability of two random variables."
   ]
  },
  {
   "cell_type": "markdown",
   "id": "3eb0e895-9a98-4dca-afda-1e41f8d8daa3",
   "metadata": {},
   "source": [
    "# hands on"
   ]
  },
  {
   "cell_type": "markdown",
   "id": "7059a767-a2ed-4fb3-98b0-c6898c14ce16",
   "metadata": {},
   "source": [
    "To illustrate the usage of multivariate random variables and related concepts in machine learning, let's consider an example of the Expectation-Maximization (EM) algorithm. The EM algorithm is an iterative optimization method that combines different unsupervised machine learning algorithms to find maximum likelihood or maximum posterior estimates of parameters in statistical models that involve unobserved latent variables geeksforgeeks.org.\n",
    "\n",
    "First, let's import the necessary libraries:"
   ]
  },
  {
   "cell_type": "code",
   "execution_count": 7,
   "id": "6885f1f0-57fe-4d10-8528-5c53aa1d7aca",
   "metadata": {},
   "outputs": [],
   "source": [
    "import numpy as np\n",
    "import matplotlib.pyplot as plt\n",
    "from scipy.stats import norm\n"
   ]
  },
  {
   "cell_type": "markdown",
   "id": "580c3066-5b9b-4046-895a-4b23106c60d2",
   "metadata": {},
   "source": [
    "Next, let's define the joint probability mass function and the marginal distribution function:"
   ]
  },
  {
   "cell_type": "code",
   "execution_count": 8,
   "id": "b5b31450-cc9e-4dd5-b025-f2346974c1a7",
   "metadata": {
    "tags": []
   },
   "outputs": [],
   "source": [
    "def joint_probability_mass_function(p, x, y):\n",
    "    return p(x, y)\n",
    "\n",
    "def marginal_distribution(p, X):\n",
    "    return sum([p(x) for x in X])\n"
   ]
  },
  {
   "cell_type": "markdown",
   "id": "5c181ad5-8b70-4ebd-a2fa-3e1dad378768",
   "metadata": {},
   "source": [
    "Now, let's define the expected value function and the variance function:"
   ]
  },
  {
   "cell_type": "code",
   "execution_count": 9,
   "id": "81c1a77f-e47b-4c4c-9c30-d32effbd81a2",
   "metadata": {},
   "outputs": [],
   "source": [
    "def expected_value(p, X):\n",
    "    return sum([x * p(x) for x in X])\n",
    "\n",
    "def variance(p, X):\n",
    "    E_X = expected_value(p, X)\n",
    "    return sum([(x - E_X)**2 * p(x) for x in X])\n"
   ]
  },
  {
   "cell_type": "markdown",
   "id": "c2930b29-4e2c-48dd-8176-2d159a0571dd",
   "metadata": {},
   "source": [
    "We'll generate some synthetic data for two Gaussian distributions:"
   ]
  },
  {
   "cell_type": "code",
   "execution_count": 10,
   "id": "9afdfb6b-6a1d-40b0-90d7-d643da04efe1",
   "metadata": {},
   "outputs": [
    {
     "data": {
      "image/png": "[encoded data removed]",
      "text/plain": [
       "<Figure size 640x480 with 1 Axes>"
      ]
     },
     "metadata": {},
     "output_type": "display_data"
    }
   ],
   "source": [
    "np.random.seed(0)\n",
    "X1 = np.random.normal(0, 1, 1000)\n",
    "X2 = np.random.normal(1, 2, 1000)\n",
    "\n",
    "plt.hist(X1, bins=30, alpha=0.5, label='X1')\n",
    "plt.hist(X2, bins=30, alpha=0.5, label='X2')\n",
    "plt.legend()\n",
    "plt.show()\n"
   ]
  },
  {
   "cell_type": "markdown",
   "id": "c78b60e2-27a5-451a-b228-81e0469ab432",
   "metadata": {},
   "source": [
    "The above code generates two sets of data, $X_1$ and $X_2$, that follow two different Gaussian distributions. The histograms show the distribution of these data points.\n",
    "\n",
    "Now, let's define the Expectation-Maximization (EM) algorithm. The algorithm consists of two steps: the E-step and the M-step. In the E-step, the algorithm computes the expected value of the log-likelihood using the current parameter estimates. In the M-step, the algorithm determines the parameters that maximize the expected log-likelihood obtained in the E-step, and the corresponding model parameters are updated based on the estimated latent variables"
   ]
  },
  {
   "cell_type": "code",
   "execution_count": 11,
   "id": "7082fea9-5db8-4df3-aafa-24a0efb0bd08",
   "metadata": {},
   "outputs": [],
   "source": [
    "def expectation_maximization(X, max_iter=100, tol=1e-4):\n",
    "    n = len(X)\n",
    "    mu = np.mean(X)\n",
    "    sigma = np.var(X)\n",
    "\n",
    "    for i in range(max_iter):\n",
    "        # E-step: compute the expected value of the log-likelihood\n",
    "        expected_log_likelihood = np.log(norm.pdf(X, mu, np.sqrt(sigma)))\n",
    "        \n",
    "        # M-step: maximize the expected log-likelihood\n",
    "        mu_new = np.mean(X)\n",
    "        sigma_new = np.var(X)\n",
    "        \n",
    "        # check for convergence\n",
    "        if np.abs(mu_new - mu) < tol and np.abs(sigma_new - sigma) < tol:\n",
    "            break\n",
    "\n",
    "        mu = mu_new\n",
    "        sigma = sigma_new\n",
    "\n",
    "    return mu, sigma\n"
   ]
  },
  {
   "cell_type": "markdown",
   "id": "b92f349f-8da9-40b8-84cf-8ab0ad50fcf0",
   "metadata": {},
   "source": [
    "Finally, let's apply the EM algorithm to our synthetic data:"
   ]
  },
  {
   "cell_type": "code",
   "execution_count": 12,
   "id": "aa0fe44d-5661-4fd2-9a13-0491ef411b23",
   "metadata": {
    "tags": []
   },
   "outputs": [
    {
     "name": "stdout",
     "output_type": "stream",
     "text": [
      "Estimated mu: 0.49098858657106587\n",
      "Estimated sigma: 2.649343752124485\n"
     ]
    }
   ],
   "source": [
    "mu, sigma = expectation_maximization(np.concatenate((X1, X2)))\n",
    "\n",
    "print(f'Estimated mu: {mu}')\n",
    "print(f'Estimated sigma: {sigma}')\n"
   ]
  },
  {
   "cell_type": "markdown",
   "id": "ce5cf906-e014-4116-8626-6446a3cea4e7",
   "metadata": {},
   "source": [
    "This code applies the EM algorithm to the concatenated data from X1 and X2, and prints the estimated mean and variance. These values represent the parameters of the Gaussian distribution that best fits the data.\n",
    "\n",
    "In this example, we have demonstrated the use of multivariate random variables and related concepts in the context of the EM algorithm. "
   ]
  },
  {
   "cell_type": "code",
   "execution_count": null,
   "id": "6e8191a0-f7fe-4b7e-87a9-9d1e78451bf1",
   "metadata": {},
   "outputs": [],
   "source": []
  }
 ],
 "metadata": {
  "kernelspec": {
   "display_name": "Python 3 (ipykernel)",
   "language": "python",
   "name": "python3"
  },
  "language_info": {
   "codemirror_mode": {
    "name": "ipython",
    "version": 3
   },
   "file_extension": ".py",
   "mimetype": "text/x-python",
   "name": "python",
   "nbconvert_exporter": "python",
   "pygments_lexer": "ipython3",
   "version": "3.11.4"
  }
 },
 "nbformat": 4,
 "nbformat_minor": 5
}
