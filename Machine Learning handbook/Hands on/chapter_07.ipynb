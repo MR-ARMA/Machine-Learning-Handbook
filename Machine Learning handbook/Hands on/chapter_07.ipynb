{
 "cells": [
  {
   "cell_type": "markdown",
   "metadata": {},
   "source": [
    "# chapter 7: Generalized Linear Models"
   ]
  },
  {
   "cell_type": "markdown",
   "metadata": {},
   "source": [
    "# <center> ![picture](pictures/title.jpg)"
   ]
  },
  {
   "cell_type": "markdown",
   "metadata": {},
   "source": [
    "\n",
    "In the previous sections, we explored the statistical framework and its insights into linear regression. However, linear regression is limited to Gaussian probability distributions and linear dependencies between features and targets. In this chapter, we introduce Generalized Linear Models (GLMs) to extend ordinary least squares regression to a broader range of distributions and loss functions, specifically Bergmann divergence.\n",
    "\n",
    "## 7-1 Exponential Transition and Poisson Distribution\n",
    "\n",
    "Consider a scenario where data points correspond to world cities, described numerically, and the target variable is the number of sunny days in a year. The Poisson distribution is a suitable model for this scenario, and we introduce an exponential transition to connect the linear prediction to the Poisson distribution.\n",
    "\n",
    "The GLM model for Poisson regression is defined as:\n",
    "\n",
    "1. $(\\mathbb{E}[y | \\mathbf{x}] = \\exp(\\mathbf{\\omega}^T \\mathbf{x})) $ or $ (\\log(\\mathbb{E}[y | \\mathbf{x}]) = \\mathbf{\\omega}^T \\mathbf{x})$\n",
    "2. $(p(y | \\mathbf{x}) = \\text{Poisson}(\\lambda)) $ where $ (\\lambda = \\exp(\\mathbf{\\omega}^T \\mathbf{x}))$\n",
    "\n",
    "To find the parameters of the regression model, we use maximum likelihood estimation and the log-likelihood function.\n",
    "\n",
    "## 7-2 Exponential Family Distributions\n",
    "\n",
    "This section explores the natural exponential family, a class of probability distributions expressed as:\n",
    "\n",
    "$$[ p(x | \\theta) = \\exp(\\theta x - a(\\theta) + b(x)) ]$$\n",
    "\n",
    "Here, $(\\theta)$ is the distribution parameter, $(a(\\theta)) $ is the log-normalizing function, and $(b(x)) $ is a function of $(x)$ typically ignored in optimization. The exponential family includes distributions like exponential, Gaussian, gamma, Poisson, or binomial.\n",
    "\n",
    "## 7-3 Formulating Generalized Linear Models\n",
    "\n",
    "The key components of GLMs are formulated as:\n",
    "\n",
    "1. $(\\mathbb{E}[y | \\mathbf{x}] = f(\\mathbf{\\omega}^T \\mathbf{x}))$ or $(g(\\mathbb{E}[y | \\mathbf{x}]) = \\mathbf{\\omega}^T \\mathbf{x})$ where $(g = f^{-1})$\n",
    "2. $(p(y | \\mathbf{x})) $ is an exponential family distribution\n",
    "\n",
    "The function $(f)$ is called the transfer function, and $(g)$ is the link function. For example, in Poisson regression, $(f)$ is an exponential function.\n",
    "\n",
    "The stochastic gradient descent update for GLMs is given by:\n",
    "\n",
    "$$[ \\mathbf{w}_{t+1} = \\mathbf{w}_t - \\eta_t \\left( f(\\mathbf{x}_i^T \\mathbf{w}_t) - y_i \\right) \\mathbf{x}_i ]$$\n",
    "\n",
    "The batch gradient descent update is:\n",
    "\n",
    "$$[ \\mathbf{w}_{t+1} = \\mathbf{w}_t - \\eta_t \\sum_{i=1}^{n} \\left( f(\\mathbf{x}_i^T \\mathbf{w}_t) - y_i \\right) \\mathbf{x}_i ]$$\n",
    "\n",
    "The Hessian matrix for GLMs is expressed as $(\\mathbf{H}_{-ll(\\mathbf{w})} = -\\mathbf{X}^T \\mathbf{D} \\mathbf{X})$.\n",
    "\n",
    "These formulations allow a wide variety of link functions and probability distributions, offering flexibility and generality in GLMs.\n"
   ]
  }
 ],
 "metadata": {
  "kernelspec": {
   "display_name": "Python 3",
   "language": "python",
   "name": "python3"
  },
  "language_info": {
   "codemirror_mode": {
    "name": "ipython",
    "version": 3
   },
   "file_extension": ".py",
   "mimetype": "text/x-python",
   "name": "python",
   "nbconvert_exporter": "python",
   "pygments_lexer": "ipython3",
   "version": "3.10.6"
  }
 },
 "nbformat": 4,
 "nbformat_minor": 2
}
